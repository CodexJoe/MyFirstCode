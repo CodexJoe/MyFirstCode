{
  "nbformat": 4,
  "nbformat_minor": 0,
  "metadata": {
    "colab": {
      "name": "Casting.ipynb",
      "provenance": [],
      "toc_visible": true,
      "authorship_tag": "ABX9TyOzgpOdHysvyg92X4L5Ski/",
      "include_colab_link": true
    },
    "kernelspec": {
      "name": "python3",
      "display_name": "Python 3"
    },
    "language_info": {
      "name": "python"
    }
  },
  "cells": [
    {
      "cell_type": "markdown",
      "metadata": {
        "id": "view-in-github",
        "colab_type": "text"
      },
      "source": [
        "<a href=\"https://colab.research.google.com/github/CodexJoe/MyFirstCode/blob/main/Casting.ipynb\" target=\"_parent\"><img src=\"https://colab.research.google.com/assets/colab-badge.svg\" alt=\"Open In Colab\"/></a>"
      ]
    },
    {
      "cell_type": "code",
      "execution_count": 2,
      "metadata": {
        "colab": {
          "base_uri": "https://localhost:8080/"
        },
        "id": "LZEGCNXLsfNm",
        "outputId": "5a2678d8-ce6a-4c52-ae21-b91384a8bc3f"
      },
      "outputs": [
        {
          "output_type": "stream",
          "name": "stdout",
          "text": [
            "(25+0j)\n",
            "25\n",
            "<class 'str'>\n",
            "25.0\n"
          ]
        }
      ],
      "source": [
        "My_Variable = 25\n",
        "Complex_Num = complex(My_Variable)\n",
        "print(Complex_Num)\n",
        "String_conversion = str(My_Variable)\n",
        "print(String_conversion)\n",
        "print(type(String_conversion))\n",
        "Float_Conversion = float(My_Variable)\n",
        "print(Float_Conversion)\n"
      ]
    }
  ]
}