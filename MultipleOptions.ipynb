{
  "nbformat": 4,
  "nbformat_minor": 0,
  "metadata": {
    "colab": {
      "provenance": [],
      "authorship_tag": "ABX9TyNUeupXNALBGL+d1kNtuI09",
      "include_colab_link": true
    },
    "kernelspec": {
      "name": "python3",
      "display_name": "Python 3"
    },
    "language_info": {
      "name": "python"
    }
  },
  "cells": [
    {
      "cell_type": "markdown",
      "metadata": {
        "id": "view-in-github",
        "colab_type": "text"
      },
      "source": [
        "<a href=\"https://colab.research.google.com/github/CodexJoe/MyFirstCode/blob/main/MultipleOptions.ipynb\" target=\"_parent\"><img src=\"https://colab.research.google.com/assets/colab-badge.svg\" alt=\"Open In Colab\"/></a>"
      ]
    },
    {
      "cell_type": "code",
      "source": [
        "Ans = input(\"PLEASE SELECTION OPTION FROM A TO D IN CAPITAL LETTER: \")\n",
        "Ans = Ans.upper()\n",
        "Ans = Ans.strip()\n",
        "Ans = Ans.strip(\".\")\n",
        "if(Ans ==\"A\"):\n",
        "    print(\"You Chose A\")\n",
        "elif(Ans == \"B\"):\n",
        "    print(\"You Chose B\")\n",
        "elif(Ans == \"C\"):\n",
        "    print(\"You chose C\")\n",
        "elif(Ans == \"D\"):\n",
        "    print(\"You Chose D\")\n",
        "else:\n",
        "    print(\"PLEASE FOLLOW THE INSTRUCTION\")"
      ],
      "metadata": {
        "colab": {
          "base_uri": "https://localhost:8080/"
        },
        "id": "vrvj0GX7dgHD",
        "outputId": "25ea91dc-202b-4a1b-f51f-ae4a27a63710"
      },
      "execution_count": 13,
      "outputs": [
        {
          "output_type": "stream",
          "name": "stdout",
          "text": [
            "PLEASE SELECTION OPTION FROM A TO D IN CAPITAL LETTER: c\n",
            "You chose C\n"
          ]
        }
      ]
    }
  ]
}